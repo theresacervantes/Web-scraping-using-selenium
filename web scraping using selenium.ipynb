{
 "cells": [
  {
   "cell_type": "code",
   "execution_count": 1,
   "metadata": {
    "collapsed": true
   },
   "outputs": [],
   "source": [
    "from selenium import webdriver\n",
    "from selenium.webdriver.common.keys import Keys\n",
    "from selenium.webdriver.support.ui import Select\n",
    "from selenium.common.exceptions import NoSuchElementException\n",
    "from random import randint\n",
    "import re\n",
    "from bs4 import BeautifulSoup\n",
    "import pandas as pd\n",
    "from collections import defaultdict\n",
    "from time import sleep"
   ]
  },
  {
   "cell_type": "markdown",
   "metadata": {},
   "source": [
    "# Scrape DMV website\n",
    "\n",
    "**Objective: ** Find out which office in CA has the soonest 'first available appointment date' for getting a new ID card/Driver's License. \n",
    "\n",
    "**Background: ** Sometimes, it's better to drive an hour away to wait in a shorter line at the DMV.\n",
    "\n",
    "**Set-backs: **Website uses reCAPTCHA to prove you are human when submitting the form."
   ]
  },
  {
   "cell_type": "code",
   "execution_count": null,
   "metadata": {
    "collapsed": true
   },
   "outputs": [],
   "source": [
    "### Fill out your personal information after the colons.\n",
    "personal_information = {\n",
    "    'firstname': \"\"\"input firstname here\"\"\",\n",
    "    'lastname': \"\"\"input last name here\"\"\",\n",
    "    'phonenumber': \"\"\"input phone number separated by dashes here. ie: 123-456-7890\"\"\"\n",
    "}"
   ]
  },
  {
   "cell_type": "code",
   "execution_count": 4,
   "metadata": {
    "collapsed": true
   },
   "outputs": [],
   "source": [
    "#dictionary to store the DMV office name and their first available appointment date. \n",
    "dict_office = defaultdict()"
   ]
  },
  {
   "cell_type": "code",
   "execution_count": 2,
   "metadata": {
    "collapsed": true
   },
   "outputs": [],
   "source": [
    "safaridriver = webdriver.Safari()\n",
    "safaridriver.maximize_window()\n",
    "\n",
    "#open base url\n",
    "url = 'https://www.dmv.ca.gov/wasapp/foa/startOfficeVisit.do'\n",
    "safaridriver.get(url)"
   ]
  },
  {
   "cell_type": "code",
   "execution_count": 3,
   "metadata": {},
   "outputs": [],
   "source": [
    "#get list of all CA dmv offices\n",
    "html = safaridriver.find_element_by_tag_name('html').get_attribute('innerHTML')\n",
    "soup = BeautifulSoup(html,'html.parser')\n",
    "offices = list(filter(None, [i.text for i in soup.find_all('option')]))"
   ]
  },
  {
   "cell_type": "code",
   "execution_count": 10,
   "metadata": {
    "collapsed": true
   },
   "outputs": [],
   "source": [
    "def fill_dropdown(selection):\n",
    "    \"\"\"Select item from a dropdown menu\"\"\"\n",
    "    drop_down=Select(safaridriver.find_element_by_xpath('//*[@id=\"officeId\"]'))\n",
    "    drop_down.select_by_visible_text(selection)\n",
    "    sleep(randint(3,6))\n",
    "    \n",
    "def click_button(xpath_to_button):\n",
    "    \"\"\"Click on a button in the form.\"\"\"\n",
    "    button=safaridriver.find_element_by_xpath(xpath_to_button).click()  \n",
    "    sleep(randint(3,6))\n",
    "    \n",
    "def fill_textbox(xpath_to_box, text):\n",
    "    \"\"\"Input any text into a textbox\"\"\"\n",
    "    name1=safaridriver.find_element_by_xpath(xpath_to_box)\n",
    "    name1.send_keys(text)\n",
    "    sleep(randint(3,6))\n",
    "    name1.send_keys(Keys.ENTER)\n",
    "    sleep(randint(3,6))\n",
    "\n",
    "def fill_out_form(office, personal_information):\n",
    "    \"\"\"Fill out all required information on DMV website\"\"\"\n",
    "    #select office from drop-down menu\n",
    "    fill_dropdown(office)\n",
    "\n",
    "    #select how many items I would like to process: 1 item\n",
    "    click_button('//*[@id=\"one_task\"]')  \n",
    "    \n",
    "    #select reason for visit: Apply for, replace, or renew a California DL/ID\n",
    "    click_button('//*[@id=\"taskCID\"]')  \n",
    "\n",
    "    #fill textboxes with personal information\n",
    "    fill_textbox('//*[@id=\"first_name\"]', personal_information['firstname'])\n",
    "    fill_textbox('//*[@id=\"last_name\"]', personal_information['lastname'])\n",
    "    fill_textbox('//*[@id=\"areaCode\"]', personal_information['phonenumber'].split('-')[0])\n",
    "    fill_textbox('//*[@id=\"telPrefix\"]', personal_information['phonenumber'].split('-')[1])\n",
    "    fill_textbox('//*[@id=\"telSuffix\"]', personal_information['phonenumber'].split('-')[2])\n",
    "\n",
    "def get_date():\n",
    "    \"\"\"Find first available appointment for this office\"\"\"\n",
    "    html = safaridriver.find_element_by_tag_name('html').get_attribute('innerHTML')\n",
    "    soup = BeautifulSoup(html,'html.parser')\n",
    "    date = soup.find(text=re.compile('The first available appointment for this office is on:'))\\\n",
    "    .next.next.find('strong').text.replace('\\n','').replace('\\t','').strip()\n",
    "    dict_office[office] = date\n",
    "    sleep(randint(3,6))"
   ]
  },
  {
   "cell_type": "code",
   "execution_count": null,
   "metadata": {
    "collapsed": true
   },
   "outputs": [],
   "source": [
    "for office in offices:\n",
    "    if office == offices[0]:\n",
    "        fill_out_form(office)\n",
    "    try:\n",
    "        #click: Continue\n",
    "        click_button('//*[@id=\"findOffice\"]/fieldset/div[8]/input[2]')\n",
    "    except NoSuchElementException:\n",
    "\n",
    "        #Sometimes the \"Continue\" button doesn't exist. It reappears when you \"Clear Fields\" and refill form. \n",
    "        clear_button = safaridriver.find_element_by_link_text('Clear Fields').click()\n",
    "        fill_out_form(office)\n",
    "\n",
    "        #click: Continue\n",
    "        click_button('//*[@id=\"findOffice\"]/fieldset/div[8]/input[2]')\n",
    "\n",
    "\n",
    "        \"\"\"~~~~~Code to solve reCAPTCHA should go here~~~~~\"\"\"\n",
    "        \"\"\"~~~~~Code to solve reCAPTCHA should go here~~~~~\"\"\"\n",
    "        \"\"\"~~~~~Code to solve reCAPTCHA should go here~~~~~\"\"\"\n",
    "\n",
    "\n",
    "        #Get date of first available appointment and save result into dictionary.\n",
    "        get_date()\n",
    "\n",
    "        #Go back to select a different office. The form will already be filled out. \n",
    "        back_button = safaridriver.find_element_by_link_text('Back').click()"
   ]
  },
  {
   "cell_type": "code",
   "execution_count": null,
   "metadata": {
    "collapsed": true
   },
   "outputs": [],
   "source": []
  }
 ],
 "metadata": {
  "kernelspec": {
   "display_name": "Python 3",
   "language": "python",
   "name": "python3"
  },
  "language_info": {
   "codemirror_mode": {
    "name": "ipython",
    "version": 3
   },
   "file_extension": ".py",
   "mimetype": "text/x-python",
   "name": "python",
   "nbconvert_exporter": "python",
   "pygments_lexer": "ipython3",
   "version": "3.6.1"
  }
 },
 "nbformat": 4,
 "nbformat_minor": 2
}
